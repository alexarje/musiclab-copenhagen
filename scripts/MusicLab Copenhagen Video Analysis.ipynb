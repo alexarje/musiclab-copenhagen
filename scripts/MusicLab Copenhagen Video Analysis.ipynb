{
 "cells": [
  {
   "cell_type": "markdown",
   "metadata": {},
   "source": [
    "# MusicLab Copenhagen video analysis"
   ]
  },
  {
   "cell_type": "code",
   "execution_count": 1,
   "metadata": {},
   "outputs": [],
   "source": [
    "import musicalgestures as mg"
   ]
  },
  {
   "cell_type": "code",
   "execution_count": 2,
   "metadata": {},
   "outputs": [
    {
     "name": "stderr",
     "output_type": "stream",
     "text": [
      "Exception in thread Thread-4:\n",
      "Traceback (most recent call last):\n",
      "  File \"/home/alexander/anaconda3/lib/python3.7/threading.py\", line 926, in _bootstrap_inner\n",
      "    self.run()\n",
      "  File \"/home/alexander/anaconda3/lib/python3.7/threading.py\", line 870, in run\n",
      "    self._target(*self._args, **self._kwargs)\n",
      "  File \"/home/alexander/anaconda3/lib/python3.7/site-packages/musicalgestures/_cropvideo.py\", line 198, in run_cropping_window\n",
      "    asyncio.run(async_subprocess(command))\n",
      "  File \"/home/alexander/anaconda3/lib/python3.7/asyncio/runners.py\", line 43, in run\n",
      "    return loop.run_until_complete(main)\n",
      "  File \"/home/alexander/anaconda3/lib/python3.7/asyncio/base_events.py\", line 579, in run_until_complete\n",
      "    return future.result()\n",
      "  File \"/home/alexander/anaconda3/lib/python3.7/site-packages/musicalgestures/_cropvideo.py\", line 160, in async_subprocess\n",
      "    process = await asyncio.create_subprocess_shell(command, stdout=asyncio.subprocess.PIPE, stderr=asyncio.subprocess.PIPE)\n",
      "  File \"/home/alexander/anaconda3/lib/python3.7/asyncio/subprocess.py\", line 202, in create_subprocess_shell\n",
      "    stderr=stderr, **kwds)\n",
      "  File \"/home/alexander/anaconda3/lib/python3.7/asyncio/base_events.py\", line 1499, in subprocess_shell\n",
      "    protocol, cmd, True, stdin, stdout, stderr, bufsize, **kwargs)\n",
      "  File \"/home/alexander/anaconda3/lib/python3.7/asyncio/unix_events.py\", line 193, in _make_subprocess_transport\n",
      "    self._child_watcher_callback, transp)\n",
      "  File \"/home/alexander/anaconda3/lib/python3.7/asyncio/unix_events.py\", line 930, in add_child_handler\n",
      "    \"Cannot add child handler, \"\n",
      "RuntimeError: Cannot add child handler, the child watcher does not have a loop attached\n",
      "\n",
      "Future exception was never retrieved\n",
      "future: <Future finished exception=CancelledError()>\n",
      "Traceback (most recent call last):\n",
      "  File \"/home/alexander/anaconda3/lib/python3.7/threading.py\", line 926, in _bootstrap_inner\n",
      "    self.run()\n",
      "  File \"/home/alexander/anaconda3/lib/python3.7/threading.py\", line 870, in run\n",
      "    self._target(*self._args, **self._kwargs)\n",
      "  File \"/home/alexander/anaconda3/lib/python3.7/site-packages/musicalgestures/_cropvideo.py\", line 198, in run_cropping_window\n",
      "    asyncio.run(async_subprocess(command))\n",
      "  File \"/home/alexander/anaconda3/lib/python3.7/asyncio/runners.py\", line 43, in run\n",
      "    return loop.run_until_complete(main)\n",
      "  File \"/home/alexander/anaconda3/lib/python3.7/asyncio/base_events.py\", line 579, in run_until_complete\n",
      "    return future.result()\n",
      "  File \"/home/alexander/anaconda3/lib/python3.7/site-packages/musicalgestures/_cropvideo.py\", line 160, in async_subprocess\n",
      "    process = await asyncio.create_subprocess_shell(command, stdout=asyncio.subprocess.PIPE, stderr=asyncio.subprocess.PIPE)\n",
      "  File \"/home/alexander/anaconda3/lib/python3.7/asyncio/subprocess.py\", line 202, in create_subprocess_shell\n",
      "    stderr=stderr, **kwds)\n",
      "  File \"/home/alexander/anaconda3/lib/python3.7/asyncio/base_events.py\", line 1499, in subprocess_shell\n",
      "    protocol, cmd, True, stdin, stdout, stderr, bufsize, **kwargs)\n",
      "  File \"/home/alexander/anaconda3/lib/python3.7/asyncio/unix_events.py\", line 193, in _make_subprocess_transport\n",
      "    self._child_watcher_callback, transp)\n",
      "  File \"/home/alexander/anaconda3/lib/python3.7/asyncio/unix_events.py\", line 930, in add_child_handler\n",
      "    \"Cannot add child handler, \"\n",
      "RuntimeError: Cannot add child handler, the child watcher does not have a loop attached\n",
      "\n",
      "During handling of the above exception, another exception occurred:\n",
      "\n",
      "Traceback (most recent call last):\n",
      "  File \"/home/alexander/anaconda3/lib/python3.7/asyncio/base_subprocess.py\", line 171, in _connect_pipes\n",
      "    proc.stdout)\n",
      "  File \"/home/alexander/anaconda3/lib/python3.7/asyncio/base_events.py\", line 1437, in connect_read_pipe\n",
      "    await waiter\n",
      "concurrent.futures._base.CancelledError\n"
     ]
    },
    {
     "ename": "NameError",
     "evalue": "name 'w' is not defined",
     "output_type": "error",
     "traceback": [
      "\u001b[0;31m---------------------------------------------------------------------------\u001b[0m",
      "\u001b[0;31mNameError\u001b[0m                                 Traceback (most recent call last)",
      "\u001b[0;32m<ipython-input-2-12e77682f4f2>\u001b[0m in \u001b[0;36m<module>\u001b[0;34m\u001b[0m\n\u001b[0;32m----> 1\u001b[0;31m \u001b[0mvideo\u001b[0m \u001b[0;34m=\u001b[0m \u001b[0mmg\u001b[0m\u001b[0;34m.\u001b[0m\u001b[0mMgObject\u001b[0m\u001b[0;34m(\u001b[0m\u001b[0;34m'../data/gopro-front/original/gopro-front-beethoven.mp4'\u001b[0m\u001b[0;34m,\u001b[0m \u001b[0mcrop\u001b[0m\u001b[0;34m=\u001b[0m\u001b[0;34m'manual'\u001b[0m\u001b[0;34m,\u001b[0m \u001b[0mcolor\u001b[0m\u001b[0;34m=\u001b[0m\u001b[0;32mFalse\u001b[0m\u001b[0;34m,\u001b[0m \u001b[0mkeep_all\u001b[0m\u001b[0;34m=\u001b[0m\u001b[0;32mTrue\u001b[0m\u001b[0;34m)\u001b[0m\u001b[0;34m\u001b[0m\u001b[0;34m\u001b[0m\u001b[0m\n\u001b[0m",
      "\u001b[0;32m~/anaconda3/lib/python3.7/site-packages/musicalgestures/__init__.py\u001b[0m in \u001b[0;36m__init__\u001b[0;34m(self, filename, filtertype, thresh, starttime, endtime, blur, skip, rotate, color, contrast, brightness, crop, keep_all, returned_by_process)\u001b[0m\n\u001b[1;32m     78\u001b[0m         \u001b[0mself\u001b[0m\u001b[0;34m.\u001b[0m\u001b[0mreturned_by_process\u001b[0m \u001b[0;34m=\u001b[0m \u001b[0mreturned_by_process\u001b[0m\u001b[0;34m\u001b[0m\u001b[0;34m\u001b[0m\u001b[0m\n\u001b[1;32m     79\u001b[0m         \u001b[0mself\u001b[0m\u001b[0;34m.\u001b[0m\u001b[0mtest_input\u001b[0m\u001b[0;34m(\u001b[0m\u001b[0;34m)\u001b[0m\u001b[0;34m\u001b[0m\u001b[0;34m\u001b[0m\u001b[0m\n\u001b[0;32m---> 80\u001b[0;31m         \u001b[0mself\u001b[0m\u001b[0;34m.\u001b[0m\u001b[0mget_video\u001b[0m\u001b[0;34m(\u001b[0m\u001b[0;34m)\u001b[0m\u001b[0;34m\u001b[0m\u001b[0;34m\u001b[0m\u001b[0m\n\u001b[0m\u001b[1;32m     81\u001b[0m         \u001b[0mself\u001b[0m\u001b[0;34m.\u001b[0m\u001b[0mflow\u001b[0m \u001b[0;34m=\u001b[0m \u001b[0mFlow\u001b[0m\u001b[0;34m(\u001b[0m\u001b[0mself\u001b[0m\u001b[0;34m,\u001b[0m \u001b[0mself\u001b[0m\u001b[0;34m.\u001b[0m\u001b[0mfilename\u001b[0m\u001b[0;34m,\u001b[0m \u001b[0mself\u001b[0m\u001b[0;34m.\u001b[0m\u001b[0mcolor\u001b[0m\u001b[0;34m,\u001b[0m \u001b[0mself\u001b[0m\u001b[0;34m.\u001b[0m\u001b[0mhas_audio\u001b[0m\u001b[0;34m)\u001b[0m\u001b[0;34m\u001b[0m\u001b[0;34m\u001b[0m\u001b[0m\n\u001b[1;32m     82\u001b[0m         \u001b[0mself\u001b[0m\u001b[0;34m.\u001b[0m\u001b[0maudio\u001b[0m \u001b[0;34m=\u001b[0m \u001b[0mAudio\u001b[0m\u001b[0;34m(\u001b[0m\u001b[0mself\u001b[0m\u001b[0;34m.\u001b[0m\u001b[0mfilename\u001b[0m\u001b[0;34m)\u001b[0m\u001b[0;34m\u001b[0m\u001b[0;34m\u001b[0m\u001b[0m\n",
      "\u001b[0;32m~/anaconda3/lib/python3.7/site-packages/musicalgestures/__init__.py\u001b[0m in \u001b[0;36mget_video\u001b[0;34m(self)\u001b[0m\n\u001b[1;32m    116\u001b[0m             \u001b[0mcolor\u001b[0m\u001b[0;34m=\u001b[0m\u001b[0mself\u001b[0m\u001b[0;34m.\u001b[0m\u001b[0mcolor\u001b[0m\u001b[0;34m,\u001b[0m\u001b[0;34m\u001b[0m\u001b[0;34m\u001b[0m\u001b[0m\n\u001b[1;32m    117\u001b[0m             \u001b[0mreturned_by_process\u001b[0m\u001b[0;34m=\u001b[0m\u001b[0mself\u001b[0m\u001b[0;34m.\u001b[0m\u001b[0mreturned_by_process\u001b[0m\u001b[0;34m,\u001b[0m\u001b[0;34m\u001b[0m\u001b[0;34m\u001b[0m\u001b[0m\n\u001b[0;32m--> 118\u001b[0;31m             keep_all=self.keep_all)\n\u001b[0m\u001b[1;32m    119\u001b[0m \u001b[0;34m\u001b[0m\u001b[0m\n\u001b[1;32m    120\u001b[0m         \u001b[0;31m# update filename after the processes\u001b[0m\u001b[0;34m\u001b[0m\u001b[0;34m\u001b[0m\u001b[0;34m\u001b[0m\u001b[0m\n",
      "\u001b[0;32m~/anaconda3/lib/python3.7/site-packages/musicalgestures/_videoreader.py\u001b[0m in \u001b[0;36mmg_videoreader\u001b[0;34m(filename, starttime, endtime, skip, rotate, contrast, brightness, crop, color, keep_all, returned_by_process)\u001b[0m\n\u001b[1;32m    109\u001b[0m     \u001b[0;31m# Crops video either manually or automatically\u001b[0m\u001b[0;34m\u001b[0m\u001b[0;34m\u001b[0m\u001b[0;34m\u001b[0m\u001b[0m\n\u001b[1;32m    110\u001b[0m     \u001b[0;32mif\u001b[0m \u001b[0mcrop\u001b[0m\u001b[0;34m.\u001b[0m\u001b[0mlower\u001b[0m\u001b[0;34m(\u001b[0m\u001b[0;34m)\u001b[0m \u001b[0;34m!=\u001b[0m \u001b[0;34m'none'\u001b[0m\u001b[0;34m:\u001b[0m\u001b[0;34m\u001b[0m\u001b[0;34m\u001b[0m\u001b[0m\n\u001b[0;32m--> 111\u001b[0;31m         \u001b[0mtmp_path\u001b[0m \u001b[0;34m=\u001b[0m \u001b[0mmg_cropvideo_ffmpeg\u001b[0m\u001b[0;34m(\u001b[0m\u001b[0mof\u001b[0m\u001b[0;34m+\u001b[0m\u001b[0mfex\u001b[0m\u001b[0;34m,\u001b[0m \u001b[0mcrop_movement\u001b[0m\u001b[0;34m=\u001b[0m\u001b[0mcrop\u001b[0m\u001b[0;34m)\u001b[0m\u001b[0;34m\u001b[0m\u001b[0;34m\u001b[0m\u001b[0m\n\u001b[0m\u001b[1;32m    112\u001b[0m \u001b[0;34m\u001b[0m\u001b[0m\n\u001b[1;32m    113\u001b[0m         \u001b[0;32mif\u001b[0m \u001b[0;32mnot\u001b[0m \u001b[0mkeep_all\u001b[0m \u001b[0;32mand\u001b[0m \u001b[0;34m(\u001b[0m\u001b[0mcbing\u001b[0m \u001b[0;32mor\u001b[0m \u001b[0mrotating\u001b[0m \u001b[0;32mor\u001b[0m \u001b[0mskipping\u001b[0m \u001b[0;32mor\u001b[0m \u001b[0mtrimming\u001b[0m\u001b[0;34m)\u001b[0m\u001b[0;34m:\u001b[0m\u001b[0;34m\u001b[0m\u001b[0;34m\u001b[0m\u001b[0m\n",
      "\u001b[0;32m~/anaconda3/lib/python3.7/site-packages/musicalgestures/_cropvideo.py\u001b[0m in \u001b[0;36mmg_cropvideo_ffmpeg\u001b[0;34m(filename, crop_movement, motion_box_thresh, motion_box_margin, target_name, overwrite)\u001b[0m\n\u001b[1;32m    145\u001b[0m             filename, motion_box_thresh=motion_box_thresh, motion_box_margin=motion_box_margin)\n\u001b[1;32m    146\u001b[0m \u001b[0;34m\u001b[0m\u001b[0m\n\u001b[0;32m--> 147\u001b[0;31m     \u001b[0mcropped_video\u001b[0m \u001b[0;34m=\u001b[0m \u001b[0mcrop_ffmpeg\u001b[0m\u001b[0;34m(\u001b[0m\u001b[0mfilename\u001b[0m\u001b[0;34m,\u001b[0m \u001b[0mw\u001b[0m\u001b[0;34m,\u001b[0m \u001b[0mh\u001b[0m\u001b[0;34m,\u001b[0m \u001b[0mx\u001b[0m\u001b[0;34m,\u001b[0m \u001b[0my\u001b[0m\u001b[0;34m,\u001b[0m \u001b[0mtarget_name\u001b[0m\u001b[0;34m=\u001b[0m\u001b[0mtarget_name\u001b[0m\u001b[0;34m,\u001b[0m \u001b[0moverwrite\u001b[0m\u001b[0;34m=\u001b[0m\u001b[0moverwrite\u001b[0m\u001b[0;34m)\u001b[0m\u001b[0;34m\u001b[0m\u001b[0;34m\u001b[0m\u001b[0m\n\u001b[0m\u001b[1;32m    148\u001b[0m \u001b[0;34m\u001b[0m\u001b[0m\n\u001b[1;32m    149\u001b[0m     \u001b[0;32mif\u001b[0m \u001b[0mcrop_movement\u001b[0m\u001b[0;34m.\u001b[0m\u001b[0mlower\u001b[0m\u001b[0;34m(\u001b[0m\u001b[0;34m)\u001b[0m \u001b[0;34m==\u001b[0m \u001b[0;34m'manual'\u001b[0m\u001b[0;34m:\u001b[0m\u001b[0;34m\u001b[0m\u001b[0;34m\u001b[0m\u001b[0m\n",
      "\u001b[0;31mNameError\u001b[0m: name 'w' is not defined"
     ]
    }
   ],
   "source": [
    "video = mg.MgObject('../data/gopro-front/original/gopro-front-beethoven.mp4', crop='manual', color=False, keep_all=True)"
   ]
  },
  {
   "cell_type": "code",
   "execution_count": null,
   "metadata": {},
   "outputs": [],
   "source": []
  }
 ],
 "metadata": {
  "kernelspec": {
   "display_name": "Python 3",
   "language": "python",
   "name": "python3"
  },
  "language_info": {
   "codemirror_mode": {
    "name": "ipython",
    "version": 3
   },
   "file_extension": ".py",
   "mimetype": "text/x-python",
   "name": "python",
   "nbconvert_exporter": "python",
   "pygments_lexer": "ipython3",
   "version": "3.7.4"
  }
 },
 "nbformat": 4,
 "nbformat_minor": 2
}
